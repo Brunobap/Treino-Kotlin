{
 "cells": [
  {
   "metadata": {},
   "cell_type": "markdown",
   "source": [
    "# Tipos de variáveis\n",
    "Int, Long (Int maior), Float, Double (Float + preciso), Array, Boolean, Char, String (Array de Char), Byte, Short (Int menor), Null.\n",
    "\n",
    "Tirando os tipos Array e Boolean, todos esses tipos podem ser convertidos usando uma função \"to*nome do tipo*()\". Por exemplo, \"20015,5646.toInt()\" → 20015.\n",
    "\n",
    "Array são criados com a função \"listOf(...)\", não com [...]."
   ]
  },
  {
   "metadata": {
    "ExecuteTime": {
     "end_time": "2025-08-11T18:05:58.649199400Z",
     "start_time": "2025-08-11T18:05:57.532026400Z"
    }
   },
   "cell_type": "code",
   "source": [
    "// OBS: o uso da demarcação de linha (;) é opcional nessa linguagem\n",
    "/* OBS 2: comentário funcionam como na linguagem C */\n",
    "println(20015.5646.toInt())\n",
    "println(45.toChar())\n",
    "println(listOf(0,5,-1,15025))"
   ],
   "outputs": [
    {
     "name": "stdout",
     "output_type": "stream",
     "text": [
      "20015\r\n",
      "-\r\n",
      "[0, 5, -1, 15025]\r\n"
     ]
    }
   ],
   "execution_count": 1
  },
  {
   "metadata": {},
   "cell_type": "markdown",
   "source": [
    "# Declaração de variáveis\n",
    "3 tipos: var (variável comum), val (variável de valor final, pode ser decidida durante a execução, mas se torna uma constante) e const val (valor definido antes da execução).\n",
    "\n",
    "Ou deve ser explicitado o tipo de variável após a sua declaração (com :), ou inicializar com um valor e o compilador decidir.\n",
    "\n",
    "Cosntantes devem sempre ter o valor digitado antes, e não podem ser inseridas dentro de \"seções de código rodável\" (as caixas no notebook também não servem).\n",
    "\n",
    "Só pode ser declarada uma variável por linha, mesmo que seja do mesmo tipo.\n",
    "\n",
    "Caso use a declaração de tipo, a variável deve ser inicializada com um valor em algum lugar do código.\n",
    "\n",
    "Qualquer variável pode se tornar anulável colocando um '?' na frente do seu tipo.\n",
    "\n",
    "Valores de tipos anuláveis não podem ser atribuídos as do seu tipo padrão, para usá-las como tipos normais (em operações matemáticas), deve ser explicitado que o seu valor não é nulo, usando '!!' ao final do nome da variável."
   ]
  },
  {
   "metadata": {
    "ExecuteTime": {
     "end_time": "2025-08-11T18:06:01.911003500Z",
     "start_time": "2025-08-11T18:05:58.762834200Z"
    }
   },
   "cell_type": "code",
   "source": [
    "// Não vai funcionar aqui, pois só pode ser declarada na parte que não roda o código\n",
    "//const val CONST1 = 423\n",
    "\n",
    "// Declarado mas não inicializado\n",
    "var var1:Int?\n",
    "// Inicializado depois\n",
    "var1 = null\n",
    "println(var1);\n",
    "var1 = 22;\n",
    "println(var1);\n",
    "\n",
    "// Declarado e inicializado com um valor\n",
    "// Se declarado o tipo, deve inicializar na mesma linha\n",
    "val val1 = var1\n",
    "println(val1)"
   ],
   "outputs": [
    {
     "name": "stdout",
     "output_type": "stream",
     "text": [
      "null\r\n",
      "22\r\n",
      "22\r\n"
     ]
    }
   ],
   "execution_count": 2
  },
  {
   "metadata": {},
   "cell_type": "markdown",
   "source": [
    "# Operadores Matemáticos\n",
    "\n",
    "Operações padrões de qualquer linguagem (+ - * / %), podem ser usadas com o valor atual da variável (+= -= *= /= %=).\n",
    "\n",
    "Além disso, também é possível chamar a operação como uma função interna do tipo numérico.\n",
    "* a + b = a.plus(b)\n",
    "* a - b = a.minus(b)\n",
    "* a * b = a.times(b)\n",
    "* a / b = a.div(b)\n",
    "* a % b = a.mod(b)\n",
    "\n",
    "Somas com String resultam em concatenação.\n",
    "\n",
    "Operação ++ e -- funcionam."
   ]
  },
  {
   "metadata": {
    "ExecuteTime": {
     "end_time": "2025-08-11T18:06:03.130347Z",
     "start_time": "2025-08-11T18:06:02.006161200Z"
    }
   },
   "cell_type": "code",
   "source": [
    "println(10.plus(9f))\n",
    "println(10 + 9f)\n",
    "print(\"dez\" + 9)"
   ],
   "outputs": [
    {
     "name": "stdout",
     "output_type": "stream",
     "text": [
      "19.0\r\n",
      "19.0\r\n",
      "dez9"
     ]
    }
   ],
   "execution_count": 3
  },
  {
   "metadata": {},
   "cell_type": "markdown",
   "source": [
    "# Operadores Condicionais\n",
    "\n",
    "Comparações padrões de qualquer linguagem (< > <= >= == !=).\n",
    "\n",
    "Assim como as operações matemáticas, também é possível chamar a operação como uma função interna do tipo numérico.\n",
    "* a.compareTo(b) → Retorna um inteiro com a direção da comparação (maior = 1, menor = −1, igual = 0)\n",
    "* a.equals(b) → Retorna um booleano com o resultado da comparação (true = igual, false = diferente)\n",
    "\n",
    "# Operadores Lógicos e de Intervalo\n",
    "\n",
    "Para intersecção/união usa-se as palavras em minúsculas (and or), para negação usa-se uma exclamação (!).\n",
    "\n",
    "DICA: Ou misturar condições com esses operadores, sempre separar as operações com parênteses.\n",
    "\n",
    "Também tem operadores de intervalo:\n",
    "* in → pega um elemento de uma lista, normalmente usado com repetição for, elem *in* lista\n",
    "* .. → monta uma lista com o array definido nas pontas, 0..5 = [0, 1, 2, 3, 4, 5]"
   ]
  },
  {
   "metadata": {
    "ExecuteTime": {
     "end_time": "2025-08-11T18:06:04.757418Z",
     "start_time": "2025-08-11T18:06:03.216524900Z"
    }
   },
   "cell_type": "code",
   "source": [
    "val a = 1\n",
    "val b = 2\n",
    "val c = 3\n",
    "\n",
    "println(a.compareTo(b))\n",
    "println(c.equals(3))\n",
    "\n",
    "println() // Pulo de linha\n",
    "println((a < b) and (b < c))\n",
    "println( !(a < b) or (c < a))\n",
    "println(c in listOf(0, 1, 2, 3))\n",
    "println(b in 1..3)"
   ],
   "outputs": [
    {
     "name": "stdout",
     "output_type": "stream",
     "text": [
      "-1\r\n",
      "true\r\n",
      "\r\n",
      "true\r\n",
      "false\r\n",
      "true\r\n",
      "true\r\n"
     ]
    }
   ],
   "execution_count": 4
  },
  {
   "metadata": {},
   "cell_type": "markdown",
   "source": [
    "# Manipulação de Strings\n",
    "Podem se comportar tanto como um array de carácteres quanto como objeto com funções padrões.\n",
    "\n",
    "É possível formatar a string com os nomes das variáveis como na linguagem C#, usando\n",
    "\n",
    "${*operação/variável vai aqui*}\n",
    "\n",
    "ou $*varíavel vai aqui*.\n",
    "\n",
    "A lista das funções específicas está no código abaixo. As funções de capitalização foram descontinuadas."
   ]
  },
  {
   "metadata": {
    "ExecuteTime": {
     "end_time": "2025-08-11T18:06:09.521176600Z",
     "start_time": "2025-08-11T18:06:06.762633500Z"
    }
   },
   "cell_type": "code",
   "source": [
    "val nome = \"bruno Batista\"\n",
    "val oi = \"  Olá \"\n",
    "val mundo = \"Mundo \"\n",
    "\n",
    "println(\" --- Pegando caracteres individualmente ---\")\n",
    "println(nome[0])\n",
    "println(nome.first()) // O mesmo que pegar o caracter 0\n",
    "println(nome.length) // Tamanho da string, com o caracter de fim da palavra\n",
    "println(nome[nome.length -1])\n",
    "println(nome.last()) // O mesmo que pegar o carácter fim-1\n",
    "\n",
    "println(\"\\n --- Formatação ---\")\n",
    "println(oi + nome)\n",
    "println(\"$oi, ${mundo}.\")\n",
    "println(\"%.2f - %s\".format(16849f, nome)) // Igual a formatação de saída em C (%d = digito/int, %s = string)\n",
    "\n",
    "println(\"\\n --- Remoção de espaços ---\")\n",
    "println(oi.trimStart()+\".\") // Corta só os espaços no começo da string\n",
    "println(mundo.trim()+\".\") // Corta só os espaços no fim da string\n",
    "println(oi.trim()+\".\") // Corta os espaços no começo E fim da string\n",
    "println(\"${oi.trim()}, ${mundo.trimEnd()}\")\n",
    "\n",
    "println(\"\\n --- Substituição de caracteres ---\")\n",
    "println(nome.replace('a', '4')) // Substitui todos os caractéres de acordo com um regex\n",
    "println(nome.replaceFirstChar { c -> c.uppercase() }) // Substitui só o 1o caracter\n",
    "println(nome.replaceFirst(\"st\", \"ST\")) // Substitui só a 1a aparição que bata com o alvo\n",
    "println(nome.replaceAfter(' ', \"\")) // Usa um regex como delimitador e subsitur o que vier depois\n",
    "println(nome.replaceAfterLast(\"t\", \"\")) // Usa um regex como delimitador e subtitui o que vier depois da sua última aparição"
   ],
   "outputs": [
    {
     "name": "stdout",
     "output_type": "stream",
     "text": [
      " --- Pegando caracteres individualmente ---\r\n",
      "b\r\n",
      "b\r\n",
      "13\r\n",
      "a\r\n",
      "a\r\n",
      "\n",
      " --- Formatação ---\r\n",
      "  Olá bruno Batista\r\n",
      "  Olá , Mundo .\r\n",
      "16849,00 - bruno Batista\r\n",
      "\n",
      " --- Remoção de espaços ---\r\n",
      "Olá .\r\n",
      "Mundo.\r\n",
      "Olá.\r\n",
      "Olá, Mundo\r\n",
      "\n",
      " --- Substituição de caracteres ---\r\n",
      "bruno B4tist4\r\n",
      "Bruno Batista\r\n",
      "bruno BatiSTa\r\n",
      "bruno \r\n",
      "bruno Batist\r\n"
     ]
    }
   ],
   "execution_count": 5
  },
  {
   "metadata": {},
   "cell_type": "markdown",
   "source": [
    "# Empty x Blank\n",
    "\n",
    "Uma string pode ter 2 estados especiais com a sua falta de conteúdo.\n",
    "* Empty → vazia no sentido de não ter nenhum carácter dentro de si\n",
    "* Blank → vazia no sentido de não ter carácteres legíveis, se tiver só espaços em branco ainda é válido\n",
    "\n",
    "Para comparar esses 2 estados (junto ao estado null), a classe String tem funções internas.\n",
    "* str.isEmpty() → só estado Empty\n",
    "* str.isBlank() → só estado Blank\n",
    "* str.isNullOrBlank() → (== null) OR (== Blank)\n",
    "* str.isNullOrEmpty() → (== null) OR (== Empty)"
   ]
  },
  {
   "metadata": {
    "ExecuteTime": {
     "end_time": "2025-08-11T18:06:12.733852Z",
     "start_time": "2025-08-11T18:06:11.992045200Z"
    }
   },
   "cell_type": "code",
   "source": [
    "val s1 = \"\" // String Empty e Blank, \"sem nenhum conteúdo mesmo\"\n",
    "val s2 = \"   \"  // String Blank, mas não Empty, \"sem conteúdo LEGÍVEL\"\n",
    "\n",
    "println(\" --- S1 ---\")\n",
    "println(\"Empty: ${s1.isEmpty()}\")\n",
    "println(\"Blank: ${s1.isBlank()}\")\n",
    "println(\"Null ou Blank: ${s1.isNullOrBlank()}\")\n",
    "println(\"Null ou Empty: ${s1.isNullOrEmpty()}\")\n",
    "\n",
    "println(\"\\n --- S2 ---\")\n",
    "println(\"Empty: ${s2.isEmpty()}\")\n",
    "println(\"Blank: ${s2.isBlank()}\")\n",
    "println(\"Null ou Blank: ${s2.isNullOrBlank()}\")\n",
    "println(\"Null ou Empty: ${s2.isNullOrEmpty()}\")"
   ],
   "outputs": [
    {
     "name": "stdout",
     "output_type": "stream",
     "text": [
      " --- S1 ---\r\n",
      "Empty: true\r\n",
      "Blank: true\r\n",
      "Null ou Blank: true\r\n",
      "Null ou Empty: true\r\n",
      "\n",
      " --- S2 ---\r\n",
      "Empty: false\r\n",
      "Blank: true\r\n",
      "Null ou Blank: true\r\n",
      "Null ou Empty: false\r\n"
     ]
    }
   ],
   "execution_count": 6
  },
  {
   "metadata": {},
   "cell_type": "markdown",
   "source": [
    "# Funções\n",
    "\n",
    "Podem ser chamadas desde a maneira habitual até funções anônimas e lambdas curtos.\n",
    "\n",
    "A palavra para definir uma função é \"fun\", o tipo de retorno pode ser definido como nas variáveis (com :*tipo*, ou com o resultado explícito após '='), caso a função não use nenhum desse ela retorna um tipo 'Unit'.\n",
    "\n",
    "Assim como em quase todas as outras linguagens de programação, a função principal de um script Kotlin é \"main\".\n",
    "\n",
    "Abaixo tem-se a mesma função realizada de todas as maneiras possíveis, concatenar 2 palavras de um nome.\n",
    "\n",
    "Pode se definir o escopo de maneira mais simples, só com 'public' e 'private'. Sem o escopo definido a função fica pública.\n",
    "\n",
    "O tipo dos parâmetros deve sempre ser definido nas funções.\n",
    "\n",
    "Na chamada da função, os parâmetros podem ser passados diretamente por nome ou usando a ordem em que foram escritos."
   ]
  },
  {
   "metadata": {
    "ExecuteTime": {
     "end_time": "2025-08-11T18:06:16.146028400Z",
     "start_time": "2025-08-11T18:06:14.485684800Z"
    }
   },
   "cell_type": "code",
   "source": [
    "val nome = \"Bruno \"; val sobre = \"Batista\"\n",
    "// Mais comum, retorno explicito por definição\n",
    "fun normal(nome: String, sobre: String): String{\n",
    "    return \"$nome$sobre\"\n",
    "}\n",
    "println(normal(nome,sobre))\n",
    "\n",
    "// Uma linha, retorno explicito por resultado direto\n",
    "fun umaLinha(nome: String, sobre: String) = \"$nome$sobre\"\n",
    "println(umaLinha(nome = nome, sobre = sobre))\n",
    "\n",
    "// Função de ordem superior, usa uma outra função como argumento\n",
    "fun lambda(nome: String, sobre: String, operacao: (String, String) -> String): String{\n",
    "    return operacao(nome, sobre)\n",
    "}\n",
    "println(lambda(nome, sobre){s1, s2 -> s1 + s2}) // A lambda é delegada de fora dos argumentos\n",
    "println(lambda(nome, sobre,::umaLinha)) // O último argumento é a referência da função"
   ],
   "outputs": [
    {
     "name": "stdout",
     "output_type": "stream",
     "text": [
      "Bruno Batista\r\n",
      "Bruno Batista\r\n",
      "Bruno Batista\r\n",
      "Bruno Batista\r\n"
     ]
    }
   ],
   "execution_count": 7
  },
  {
   "metadata": {},
   "cell_type": "markdown",
   "source": [
    "# Estruturas de caso\n",
    "\n",
    "Estrutura de if-else é a mesma de sempre, porém ela pode ser usada para atribuição direta de valores ao colocar um valor/variável ao final do bloco de código da condição.\n",
    "\n",
    "O switch-case usa a palavra 'when', cada caso é separado como uma função, o caso 'default' usa a palavra no lugar da condição.\n",
    "\n",
    "Pode ser definido o alvo do 'when' com um número no ínicio \"(*alvo vai aqui*)\", ou como uma estrutura de if-else.\n",
    "\n",
    "A atribuição direta do if-else também vale para o 'when'. Também pode-se colocar um bloco de código ao executar um caso.\n",
    "\n",
    "Além disso, o operador \"Elvis\" (?:) substitui o operador ternário padrão. Ele verifica se uma variável é nula, se for atribui o valor depois do operador, se não for atribúi o da própria variável.\n"
   ]
  },
  {
   "metadata": {
    "ExecuteTime": {
     "end_time": "2025-08-11T18:13:43.354362800Z",
     "start_time": "2025-08-11T18:13:42.852486300Z"
    }
   },
   "cell_type": "code",
   "source": [
    "// Uso comum\n",
    "if (a > b) println(\"a > b\")\n",
    "else if (a > c) println(\"a > c\")\n",
    "else println(\"b > a < c\")\n",
    "\n",
    "// When, igual ao if-else\n",
    "when{\n",
    "    (a > b) -> println(\"a > b\")\n",
    "    (a > c) -> println(\"a > c\")\n",
    "    else -> println(\"b > a < c\")\n",
    "}\n",
    "\n",
    "when (c) {\n",
    "    1 -> println(\"c = 1\")\n",
    "    // Como o programa lê os casos de cima para baixo,\n",
    "    // esse será escutado antes\n",
    "    in 2..5 -> {\n",
    "        println(\"a != 1\")\n",
    "        println(\"b = 2\")\n",
    "        println(\"c != 3\")\n",
    "    }\n",
    "    3 -> println(\"c = 3\")\n",
    "}\n",
    "\n",
    "val n1:Int? = null; val n2:Int? = 5\n",
    "// Colocar o valor de n1 se n1 não for nulo,\n",
    "// *mesma comparação com n2*,\n",
    "// se for nulo colocar o valor 4\n",
    "val d = n1 ?: n2 ?: 4\n",
    "println(d)"
   ],
   "outputs": [
    {
     "name": "stdout",
     "output_type": "stream",
     "text": [
      "b > a < c\r\n",
      "b > a < c\r\n",
      "a != 1\r\n",
      "b = 2\r\n",
      "c != 3\r\n",
      "5\r\n"
     ]
    }
   ],
   "execution_count": 13
  },
  {
   "metadata": {},
   "cell_type": "markdown",
   "source": [
    "# Estruturas de Repetição\n",
    "\n",
    "Estruturas while e do-while são as mesmas de sempre.\n",
    "\n",
    "Estruturas funcionam só por contagem de números ou elementos de um conjunto.\n",
    "\n",
    "Por elementos é igual a estrutura foreach, mas sem declarar o tipo da varíavel de controle, só o nome.\n",
    "\n",
    "Por contagem tem-se algumas palavras para determinar a direção (downTo), intervalo (in, until), e tamanho de passada (step).\n",
    "\n",
    "Strings tem uma função forEach interna, que executa uma função com cada letra do texto."
   ]
  },
  {
   "metadata": {
    "ExecuteTime": {
     "end_time": "2025-08-11T18:39:32.770274500Z",
     "start_time": "2025-08-11T18:39:32.250064500Z"
    }
   },
   "cell_type": "code",
   "source": [
    "var i = 0\n",
    "while (i<10) {\n",
    "    print(\"$i \")\n",
    "    i++\n",
    "}\n",
    "println()\n",
    "\n",
    "i = 0\n",
    "do {\n",
    "    print(\"$i \")\n",
    "    i++\n",
    "} while ((0 < i) and (i < 10))\n",
    "println()\n",
    "\n",
    "// Inclui o 10 no range\n",
    "for (i in 0..10) print(\"$i \")\n",
    "println()\n",
    "// Até 1 antes do 10\n",
    "for (i in 0 until 10) print(\"$i \")\n",
    "println()\n",
    "// Regressiva\n",
    "for (i in 10 downTo 0) print(\"$i \")\n",
    "println()\n",
    "// Passo de 10\n",
    "for (i in 0..100 step 10) print(\"$i \")\n",
    "println()\n",
    "\n",
    "// Inerte das Strings\n",
    "nome.forEach { letra -> print(\"$letra \") }"
   ],
   "outputs": [
    {
     "name": "stdout",
     "output_type": "stream",
     "text": [
      "0 1 2 3 4 5 6 7 8 9 \r\n",
      "0 1 2 3 4 5 6 7 8 9 \r\n",
      "0 1 2 3 4 5 6 7 8 9 10 \r\n",
      "0 1 2 3 4 5 6 7 8 9 \r\n",
      "10 9 8 7 6 5 4 3 2 1 0 \r\n",
      "0 10 20 30 40 50 60 70 80 90 100 \r\n",
      "B r u n o   "
     ]
    }
   ],
   "execution_count": 20
  },
  {
   "metadata": {},
   "cell_type": "markdown",
   "source": [
    "# Entradas de usuário\n",
    "\n",
    "Além das bibliotecas do Java, como Scanner, o Kotlin tem 1 função básica para ler linhas de entradas digitadas no console (readln).\n",
    "\n",
    "O retorno da função readln é uma String por padrão, então a entrada digitada deve ser convertida para o tipo certo.\n",
    "\n",
    "É melhor usar um tipo anulável, com ? no fim, e depois verificar se aquele valor está certo antes de usar."
   ]
  }
 ],
 "metadata": {
  "kernelspec": {
   "display_name": "Kotlin",
   "language": "kotlin",
   "name": "kotlin"
  },
  "language_info": {
   "name": "kotlin",
   "version": "2.2.20-dev-4982",
   "mimetype": "text/x-kotlin",
   "file_extension": ".kt",
   "pygments_lexer": "kotlin",
   "codemirror_mode": "text/x-kotlin",
   "nbconvert_exporter": ""
  }
 },
 "nbformat": 4,
 "nbformat_minor": 0
}
