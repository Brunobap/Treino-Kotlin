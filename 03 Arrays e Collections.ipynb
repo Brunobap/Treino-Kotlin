{
 "cells": [
  {
   "metadata": {},
   "cell_type": "markdown",
   "source": [
    "# Arrays básicos (numéricos e Strings)\n",
    "\n",
    "O jeito mais simples de fazer um array de qualquer tipo é com a função \"Array\", ela pode ter o seu tipo declarado com \"<>\", ou inferido conforme a sua declaração.\n",
    "\n",
    "A declaração do tipo é redundante, porque a função já pede uma inicialização da lista.\n",
    "\n",
    "Também é possível declarar um array genérico, de tipo inferido com a função \"arrayOf()\", onde os argumentos já são os elementos do array.\n",
    "\n",
    "Arrays de um tipo numérico podem ser feitos com a função \\*tipo\\*Array(), com a capacidade máxima do array como argumento.\n",
    "\n",
    "Tipos númericos ainda tem as funções \"/*tipo/*ArrayOf()\", que mistura a declaração do tipo de /*tipo/*Array, com os argumentos de  \n",
    "\n",
    "A propriedade \"indices\" do Array contém uma sequência numérica de 0 até a sua capacidade, e pode ser usada para loops 'for'.\n",
    "\n",
    "Também é possível ordenar os elementos do Array em ordem crescente/decrescente ou alfabética com a função \"sort()\".\n",
    "\n",
    "A função sort pode receber 2 inteiros como argumentos, os índices de começo e fim da ordenação.\n",
    "\n",
    "A função interna \"forEach\" já foi vista anteriormente. Mas também há a função \"forEachIndexed()\", que usa os indice e o valor de cada posição nas iterações."
   ]
  },
  {
   "metadata": {
    "ExecuteTime": {
     "end_time": "2025-08-13T00:58:54.250594100Z",
     "start_time": "2025-08-13T00:58:53.485478100Z"
    }
   },
   "cell_type": "code",
   "source": [
    "// Mais simples, inferido\n",
    "val arrString = Array(3) {\"\"}\n",
    "arrString[0] = \"Bruno\"\n",
    "arrString[1] = \"Ziraldo\"\n",
    "arrString[2] = \"Abelardo\"\n",
    "arrString.forEach { print(\"$it \") }\n",
    "println()\n",
    "\n",
    "arrString.sort()\n",
    "arrString.indices.forEach { print(\"${arrString[it]} \") }\n",
    "println(\"\\n\")\n",
    "\n",
    "// Redundante, não-prático\n",
    "val arrInt = Array<Int>(3) {0}\n",
    "arrInt[0] = 2\n",
    "arrInt[1] = 5\n",
    "arrInt[2] = -1\n",
    "for (v in arrInt) print(\"$v \")\n",
    "println()\n",
    "\n",
    "arrInt.sort(1,3)\n",
    "for (i in arrInt.indices) print(\"${arrInt[i]} \")\n",
    "println(\"\\n\")\n",
    "\n",
    "val arrDouble = DoubleArray(3)\n",
    "arrDouble[0] = 5.448\n",
    "arrDouble[1] = 19849.43\n",
    "arrDouble[2] = -8971.1978\n",
    "for (v in arrDouble) print(\"$v \")\n",
    "println()\n",
    "\n",
    "// O valor na posição i aumenta 50%\n",
    "arrDouble.forEachIndexed { i,v -> arrDouble[i] =  1.5 * v }\n",
    "for (i in arrDouble.indices) print(\"${arrDouble[i]} \")"
   ],
   "outputs": [
    {
     "name": "stdout",
     "output_type": "stream",
     "text": [
      "Bruno Ziraldo Abelardo \r\n",
      "Abelardo Bruno Ziraldo \n",
      "\r\n",
      "2 5 -1 \r\n",
      "2 -1 5 \n",
      "\r\n",
      "5.448 19849.43 -8971.1978 \r\n",
      "8.172 29774.145 -13456.796699999999 "
     ]
    }
   ],
   "execution_count": 13
  },
  {
   "metadata": {},
   "cell_type": "markdown",
   "source": [
    "# Funções internas de arrays numéricos\n",
    "\n",
    "* maxOrNull: pega o maior valor do array (subtitui a função depreciada max)\n",
    "* minOrNull: pega o maior valor do array (subtitui a função depreciada min)\n",
    "* average: tira a média aritmética dos valores do array\n",
    "* filter: usa uma expressão como argumento e retira os valores que retornam false nela\n",
    "* count: usa uma expressão como argumento e conta quantos valores retornam true. Pode ser usada sem argumento para contar todos os elementos do array.\n",
    "* find: usa uma expressão como argumento e retorna o próprio valor se true, ou null caso todos os valores resultem em false.\n",
    "* any: usa uma expressão como argumento e retorna se algum valor do array retorna true"
   ]
  },
  {
   "metadata": {
    "ExecuteTime": {
     "end_time": "2025-08-13T23:13:30.140543600Z",
     "start_time": "2025-08-13T23:13:29.271549700Z"
    }
   },
   "cell_type": "code",
   "source": [
    "val salarios = doubleArrayOf(2250.00, 500.00, 4000.00)\n",
    "salarios.forEach { print(\"$it \") }\n",
    "println(\"\\n\")\n",
    "\n",
    "println(\"Maior salário: ${salarios.maxOrNull()}\")\n",
    "println(\"Menor salário: ${salarios.minOrNull()}\")\n",
    "println(\"Média dos salários: ${salarios.average()}\")\n",
    "println()\n",
    "\n",
    "print(\"Maiores que 2500.00\")\n",
    "val maisQue2500 = salarios.filter { it > 2500.00 }\n",
    "maisQue2500.forEach { print(\"$it \") }\n",
    "println(\"\\n\")\n",
    "\n",
    "println(\"Entre 2000.00 e 5000.00: ${salarios.count{ it in 2000.0 .. 5000.00}}\\n\")\n",
    "\n",
    "println(\"Achar o valor 2250.0: ${salarios.find { it == 2250.00 }}\")\n",
    "println(\"Achar o valor 1000.0: ${salarios.find { it == 1000.00 }}\\n\")\n",
    "\n",
    "println(\"Tem o valor 2250.0? ${salarios.any { it == 2250.00 }}\")\n",
    "println(\"Tem o valor 1000.0? ${salarios.any { it == 1000.00 }}\")"
   ],
   "outputs": [
    {
     "name": "stdout",
     "output_type": "stream",
     "text": [
      "2250.0 500.0 4000.0 \n",
      "\r\n",
      "Maior salário: 4000.0\r\n",
      "Menor salário: 500.0\r\n",
      "Média dos salários: 2250.0\r\n",
      "\r\n",
      "Maiores que 2500.004000.0 \n",
      "\r\n",
      "Entre 2000.00 e 5000.00: 2\n",
      "\r\n",
      "Achar o valor 2250.0: 2250.0\r\n",
      "Achar o valor 1000.0: null\n",
      "\r\n",
      "Tem o valor 2250.0? true\r\n",
      "Tem o valor 1000.0? false\r\n"
     ]
    }
   ],
   "execution_count": 3
  },
  {
   "metadata": {},
   "cell_type": "markdown",
   "source": [
    "# Maps / Sets\n",
    "\n",
    "Funcionamento de Hash-Map comum, criado com unidades denominadas \"Pair\"s.\n",
    "\n",
    "Os mapas são feitos juntando vários pares com a função \"mapOf(...)\", ou passando como argumento cada entrada no formato \"\\*chave\\* to \\*valor\\*\".\n",
    "\n",
    "A função interna forEach usa o par de chave e valor como argumentos da função lambda usada."
   ]
  },
  {
   "metadata": {
    "ExecuteTime": {
     "end_time": "2025-08-15T01:00:19.948337600Z",
     "start_time": "2025-08-15T01:00:19.200338300Z"
    }
   },
   "cell_type": "code",
   "source": [
    "// Criando por varíavel externa\n",
    "val par1 = Pair(\"Fulano\", 1989)\n",
    "val par2 = Pair(\"Ciclano\", 2001)\n",
    "val map1 = mapOf(par1, par2)\n",
    "\n",
    "// Criando por declaração no argumento\n",
    "val map2 = mapOf(\n",
    "    \"Fulano\" to 1989,\n",
    "    \"Ciclano\" to 2001\n",
    ")\n",
    "\n",
    "// Os 2 dão na mesma\n",
    "println(map1); println(map2)\n",
    "\n",
    "// Iteração por chave e valor\n",
    "map1.forEach { (k,v) -> println(\"Chave: $k - Nascimento: $v\") }"
   ],
   "outputs": [
    {
     "name": "stdout",
     "output_type": "stream",
     "text": [
      "{Fulano=1989, Ciclano=2001}\r\n",
      "{Fulano=1989, Ciclano=2001}\r\n",
      "Chave: Fulano - Nascimento: 1989\r\n",
      "Chave: Ciclano - Nascimento: 2001\r\n"
     ]
    }
   ],
   "execution_count": 2
  }
 ],
 "metadata": {
  "kernelspec": {
   "display_name": "Kotlin",
   "language": "kotlin",
   "name": "kotlin"
  },
  "language_info": {
   "name": "kotlin",
   "version": "2.2.20-dev-4982",
   "mimetype": "text/x-kotlin",
   "file_extension": ".kt",
   "pygments_lexer": "kotlin",
   "codemirror_mode": "text/x-kotlin",
   "nbconvert_exporter": ""
  }
 },
 "nbformat": 4,
 "nbformat_minor": 0
}
