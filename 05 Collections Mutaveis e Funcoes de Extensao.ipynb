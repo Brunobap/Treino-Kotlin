{
 "cells": [
  {
   "metadata": {},
   "cell_type": "markdown",
   "source": [
    "# Listas e Sets mutáveis\n",
    "\n",
    "Mesmo funcionamento das Collections comuns, porém tem a capacidade de expandir ou remover itens da sua capacidade.\n",
    "\n",
    "Chamadas para criar são parecidas, mas com a palavra \"mutable\" na frente."
   ]
  },
  {
   "metadata": {
    "ExecuteTime": {
     "end_time": "2025-08-15T23:41:46.264212700Z",
     "start_time": "2025-08-15T23:41:45.636054600Z"
    }
   },
   "cell_type": "code",
   "source": [
    "val lista = mutableListOf(15,19186)\n",
    "lista.forEach { print(\"$it \") }\n",
    "println()\n",
    "\n",
    "// Expandir a capacidade\n",
    "lista.add(-8942)\n",
    "lista.forEach { print(\"$it \") }\n",
    "println()\n",
    "\n",
    "// Reduzir a capacidade\n",
    "lista.remove(15)\n",
    "lista.forEach { print(\"$it \") }\n",
    "println(\"\\n\")\n",
    "\n",
    "// O mesmo serve para os sets\n",
    "val mapa = mutableListOf(19186)\n",
    "mapa.forEach { print(\"$it \") }\n",
    "println()\n",
    "\n",
    "mapa.add(-8942)\n",
    "mapa.add(15)\n",
    "mapa.forEach { print(\"$it \") }\n",
    "println()\n",
    "\n",
    "mapa.remove(15)\n",
    "mapa.forEach { print(\"$it \") }\n",
    "println()"
   ],
   "outputs": [
    {
     "name": "stdout",
     "output_type": "stream",
     "text": [
      "15 19186 \r\n",
      "15 19186 -8942 \r\n",
      "19186 -8942 \n",
      "\r\n",
      "19186 \r\n",
      "19186 -8942 15 \r\n",
      "19186 -8942 \r\n"
     ]
    }
   ],
   "execution_count": 3
  },
  {
   "metadata": {},
   "cell_type": "markdown",
   "source": [
    "# Funções de extensão\n",
    "\n",
    "É possível fazer funções para tipos que já existem, sem herança ou uso de decorator.\n",
    "\n",
    "Disponível só dentro do projeto.\n",
    "\n",
    "Pode ser usada até com tipos nativos do Java"
   ]
  },
  {
   "metadata": {
    "ExecuteTime": {
     "end_time": "2025-08-15T23:57:51.429774Z",
     "start_time": "2025-08-15T23:57:49.389378100Z"
    }
   },
   "cell_type": "code",
   "source": [
    "import java.math.BigDecimal\n",
    "\n",
    "// Funções incluída no tipo Array de BigDecimal\n",
    "// a auxiliar 'reduce' faz uma operação com cada valor, e acumula o resultado\n",
    "fun Array<BigDecimal>.somatoria() = this.reduce {\n",
    "    acc, valor -> acc + valor\n",
    "}\n",
    "// A função pode ser somente uma condicional\n",
    "fun Array<BigDecimal>.media() =\n",
    "    // Se estiver vazio, retornar 0 (em BigDecimal)\n",
    "    if (this.isEmpty()) BigDecimal.ZERO\n",
    "    // se não, fazer o cálculo da média aritmática\n",
    "    // A função 'somatoria' já virou uma extensão da classe BigDecimal\n",
    "    else (this.somatoria() / this.size.toBigDecimal())\n",
    "\n",
    "// Usando as funções\n",
    "val salarios = arrayOf(\n",
    "    \"2000\".toBigDecimal(),\n",
    "    \"1500\".toBigDecimal(),\n",
    "    \"4000\".toBigDecimal(),\n",
    ")\n",
    "println(\"Somatorio: ${salarios.somatoria()}\")\n",
    "println(\"Média: ${salarios.media()}\")"
   ],
   "outputs": [
    {
     "name": "stdout",
     "output_type": "stream",
     "text": [
      "Somatorio: 7500\r\n",
      "Média: 2500\r\n"
     ]
    }
   ],
   "execution_count": 1
  }
 ],
 "metadata": {
  "kernelspec": {
   "display_name": "Kotlin",
   "language": "kotlin",
   "name": "kotlin"
  },
  "language_info": {
   "name": "kotlin",
   "version": "2.2.20-dev-4982",
   "mimetype": "text/x-kotlin",
   "file_extension": ".kt",
   "pygments_lexer": "kotlin",
   "codemirror_mode": "text/x-kotlin",
   "nbconvert_exporter": ""
  }
 },
 "nbformat": 4,
 "nbformat_minor": 0
}
